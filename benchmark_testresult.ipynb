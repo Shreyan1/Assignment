{
 "cells": [
  {
   "cell_type": "code",
   "execution_count": 1,
   "metadata": {},
   "outputs": [],
   "source": [
    "import sqlite3\n",
    "import csv"
   ]
  },
  {
   "cell_type": "code",
   "execution_count": 2,
   "metadata": {},
   "outputs": [],
   "source": [
    "file_csv = 'output_30.csv'\n",
    "\n",
    "db_names = ['sqlite_db/books.sqlite',\n",
    "            'sqlite_db/disney.sqlite',\n",
    "            'sqlite_db/genes.sqlite',\n",
    "            'sqlite_db/movie_platform.sqlite',\n",
    "            'sqlite_db/shipping.sqlite']"
   ]
  },
  {
   "cell_type": "code",
   "execution_count": 3,
   "metadata": {},
   "outputs": [],
   "source": [
    "def sqlite_execute(db_name, sql_query):\n",
    "    conn = sqlite3.connect(db_name)\n",
    "    cursor = conn.cursor()\n",
    "    try:\n",
    "        cursor.execute(sql_query)\n",
    "        rows = cursor.fetchall()\n",
    "        # Convert rows to a string representation\n",
    "        result = \"; \".join([str(row) for row in rows])\n",
    "    except Exception as e:\n",
    "        result = f\"Error: {e}\"\n",
    "    finally:\n",
    "        conn.close()\n",
    "    return result"
   ]
  },
  {
   "cell_type": "code",
   "execution_count": 4,
   "metadata": {},
   "outputs": [],
   "source": [
    "# Function to update the CSV with SQL_op and LLM_SQL_op\n",
    "def update_sql_outputs_in_csv(output_file, db_files):\n",
    "    \n",
    "    db_map = {\n",
    "    'books': 'sqlite_db/books.sqlite',\n",
    "    'disney': 'sqlite_db/disney.sqlite',\n",
    "    'genes': 'sqlite_db/genes.sqlite',\n",
    "    'movie_platform': 'sqlite_db/movie_platform.sqlite',\n",
    "    'shipping': 'sqlite_db/shipping.sqlite'\n",
    "    }\n",
    "    \n",
    "    updated_rows = []\n",
    "    with open(output_file, mode='r', newline='') as file:\n",
    "        reader = csv.DictReader(file)\n",
    "        fieldnames = reader.fieldnames\n",
    "        \n",
    "        if 'SQL_op' not in fieldnames:\n",
    "            fieldnames.append('SQL_op')\n",
    "        if 'LLM_SQL_op' not in fieldnames:\n",
    "            fieldnames.append('LLM_SQL_op')\n",
    "        \n",
    "        for row in reader:\n",
    "            db_id = row['db_id']\n",
    "            sql_query = row['SQL']\n",
    "            llm_sql_query = row.get('LLM_SQL', '')\n",
    "\n",
    "            # Retrieve the corresponding database file from the map\n",
    "            db_file = db_map.get(db_id)\n",
    "\n",
    "            if db_file:\n",
    "                row['SQL_op'] = sqlite_execute(db_file, sql_query)\n",
    "                if llm_sql_query:\n",
    "                    row['LLM_SQL_op'] = sqlite_execute(db_file, llm_sql_query)\n",
    "            \n",
    "            updated_rows.append(row)\n",
    "\n",
    "    with open(output_file, mode='w', newline='') as file:\n",
    "        writer = csv.DictWriter(file, fieldnames=fieldnames)\n",
    "        writer.writeheader()\n",
    "        writer.writerows(updated_rows)\n"
   ]
  },
  {
   "cell_type": "code",
   "execution_count": 5,
   "metadata": {},
   "outputs": [],
   "source": [
    "update_sql_outputs_in_csv(file_csv, db_files=db_names)"
   ]
  }
 ],
 "metadata": {
  "kernelspec": {
   "display_name": "Python 3",
   "language": "python",
   "name": "python3"
  },
  "language_info": {
   "codemirror_mode": {
    "name": "ipython",
    "version": 3
   },
   "file_extension": ".py",
   "mimetype": "text/x-python",
   "name": "python",
   "nbconvert_exporter": "python",
   "pygments_lexer": "ipython3",
   "version": "3.10.12"
  }
 },
 "nbformat": 4,
 "nbformat_minor": 2
}
